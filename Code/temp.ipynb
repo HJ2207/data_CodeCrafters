{
 "cells": [
  {
   "cell_type": "code",
   "execution_count": 4,
   "metadata": {},
   "outputs": [],
   "source": [
    "import pandas as pd\n",
    "data = pd.read_csv(r\"C:\\Users\\HP\\Desktop\\data_CodeCrafters\\Data\\Master\\Mock_Data.csv\")"
   ]
  },
  {
   "cell_type": "code",
   "execution_count": 8,
   "metadata": {},
   "outputs": [
    {
     "name": "stdout",
     "output_type": "stream",
     "text": [
      "<class 'pandas.core.frame.DataFrame'>\n",
      "RangeIndex: 1000 entries, 0 to 999\n",
      "Data columns (total 11 columns):\n",
      " #   Column                   Non-Null Count  Dtype \n",
      "---  ------                   --------------  ----- \n",
      " 0   transaction_id           1000 non-null   int64 \n",
      " 1   transaction_date         1000 non-null   object\n",
      " 2   transaction_amount       1000 non-null   int64 \n",
      " 3   merchant_category        1000 non-null   object\n",
      " 4   card_type                1000 non-null   object\n",
      " 5   transaction_location     1000 non-null   object\n",
      " 6   cardholder_age           1000 non-null   int64 \n",
      " 7   cardholder_gender        1000 non-null   object\n",
      " 8   transaction_description  1000 non-null   object\n",
      " 9   account_balance          1000 non-null   int64 \n",
      " 10  calander_income          1000 non-null   int64 \n",
      "dtypes: int64(5), object(6)\n",
      "memory usage: 86.1+ KB\n"
     ]
    }
   ],
   "source": [
    "data.info()"
   ]
  },
  {
   "cell_type": "code",
   "execution_count": 9,
   "metadata": {},
   "outputs": [
    {
     "data": {
      "text/plain": [
       "0    23-04-2024\n",
       "1    11-07-2022\n",
       "2    22-12-2022\n",
       "3    21-07-2022\n",
       "4    30-04-2024\n",
       "Name: transaction_date, dtype: object"
      ]
     },
     "execution_count": 9,
     "metadata": {},
     "output_type": "execute_result"
    }
   ],
   "source": [
    "data[\"transaction_date\"].head()"
   ]
  },
  {
   "cell_type": "code",
   "execution_count": null,
   "metadata": {},
   "outputs": [],
   "source": []
  }
 ],
 "metadata": {
  "kernelspec": {
   "display_name": "base",
   "language": "python",
   "name": "python3"
  },
  "language_info": {
   "codemirror_mode": {
    "name": "ipython",
    "version": 3
   },
   "file_extension": ".py",
   "mimetype": "text/x-python",
   "name": "python",
   "nbconvert_exporter": "python",
   "pygments_lexer": "ipython3",
   "version": "3.9.13"
  }
 },
 "nbformat": 4,
 "nbformat_minor": 2
}
